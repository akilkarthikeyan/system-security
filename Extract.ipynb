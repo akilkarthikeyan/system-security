{
  "nbformat": 4,
  "nbformat_minor": 0,
  "metadata": {
    "colab": {
      "provenance": []
    },
    "kernelspec": {
      "name": "python3",
      "display_name": "Python 3"
    },
    "language_info": {
      "name": "python"
    }
  },
  "cells": [
    {
      "cell_type": "code",
      "source": [
        "import os\n",
        "import json\n",
        "import csv\n",
        "import pandas as pd\n",
        "from google.colab import drive\n",
        "drive.mount('/content/drive')"
      ],
      "metadata": {
        "colab": {
          "base_uri": "https://localhost:8080/"
        },
        "id": "7_Y3xTRhQdFV",
        "outputId": "77ef7b06-8c21-44fd-b882-0f1dac44a9a4"
      },
      "execution_count": null,
      "outputs": [
        {
          "output_type": "stream",
          "name": "stdout",
          "text": [
            "Drive already mounted at /content/drive; to attempt to forcibly remount, call drive.mount(\"/content/drive\", force_remount=True).\n"
          ]
        }
      ]
    },
    {
      "cell_type": "code",
      "source": [
        "dir = '/content/drive/MyDrive/Json'\n",
        "%cd '/content/drive/MyDrive/Json'"
      ],
      "metadata": {
        "id": "nZMt3OAjSdzF",
        "colab": {
          "base_uri": "https://localhost:8080/"
        },
        "outputId": "e2cc2252-9e84-417e-e6bf-e380de6520a8"
      },
      "execution_count": null,
      "outputs": [
        {
          "output_type": "stream",
          "name": "stdout",
          "text": [
            "/content/drive/MyDrive/Json\n"
          ]
        }
      ]
    },
    {
      "cell_type": "code",
      "source": [
        "src = []\n",
        "dest = []\n",
        "stime = []\n",
        "dur = []\n",
        "wait = []\n",
        "sendpoint = []\n",
        "dendpoint = []\n",
        "mark = []"
      ],
      "metadata": {
        "id": "3nahYs-9Fief"
      },
      "execution_count": null,
      "outputs": []
    },
    {
      "cell_type": "code",
      "source": [
        "def recAdd(x):\n",
        "  try:\n",
        "      fro = x['childSpans'][0]['childSpans'][0]['source']['endpoint']['type']\n",
        "      to = x['childSpans'][0]['childSpans'][0]['destination']['endpoint']['type']\n",
        "      if fro == 'HTTP' and to == 'DATABASE':\n",
        "        mark.append(1)\n",
        "      else:\n",
        "        mark.append(0)\n",
        "  except:\n",
        "      mark.append(0)\n",
        "  for child in x['childSpans']:\n",
        "    src.append(child[\"source\"][\"service\"][\"label\"])\n",
        "    dest.append(child[\"destination\"][\"service\"][\"label\"])\n",
        "    stime.append(child[\"calculatedSelfTime\"])\n",
        "    dur.append(child[\"duration\"])\n",
        "    sendpoint.append(child[\"source\"][\"endpoint\"][\"type\"])\n",
        "    dendpoint.append(child[\"source\"][\"endpoint\"][\"type\"])\n",
        "    recAdd(child)"
      ],
      "metadata": {
        "id": "4uxnp3xAblHl"
      },
      "execution_count": null,
      "outputs": []
    },
    {
      "cell_type": "code",
      "source": [
        "def waitAdd(x):\n",
        "  total = 0\n",
        "  for child in x['childSpans']:\n",
        "    total += child[\"duration\"]\n",
        "  wait.append(total)\n",
        "  for child in x['childSpans']:\n",
        "    waitAdd(child)"
      ],
      "metadata": {
        "id": "4SOj9niJbzno"
      },
      "execution_count": null,
      "outputs": []
    },
    {
      "cell_type": "code",
      "source": [
        "%pwd"
      ],
      "metadata": {
        "colab": {
          "base_uri": "https://localhost:8080/",
          "height": 35
        },
        "id": "lKG00m0Yde7E",
        "outputId": "46308c16-a502-4203-c0b1-3e598e57642a"
      },
      "execution_count": null,
      "outputs": [
        {
          "output_type": "execute_result",
          "data": {
            "text/plain": [
              "'/content/drive/MyDrive/Json'"
            ],
            "application/vnd.google.colaboratory.intrinsic+json": {
              "type": "string"
            }
          },
          "metadata": {},
          "execution_count": 72
        }
      ]
    },
    {
      "cell_type": "code",
      "source": [
        "idSet = set()\n",
        "for fi in os.listdir(dir):\n",
        "  f = open(fi)\n",
        "  d = json.load(f)\n",
        "  if d['id'] in idSet:\n",
        "    continue\n",
        "  idSet.add(d['id'])\n",
        "  d = d['rootSpan']\n",
        "  src.append(d[\"source\"][\"service\"][\"label\"])\n",
        "  dest.append(d[\"destination\"][\"service\"][\"label\"])\n",
        "  stime.append(d[\"calculatedSelfTime\"])\n",
        "  dur.append(d[\"duration\"])\n",
        "  sendpoint.append(d[\"source\"][\"endpoint\"][\"type\"])\n",
        "  dendpoint.append(d[\"source\"][\"endpoint\"][\"type\"])\n",
        "  recAdd(d)\n",
        "  waitAdd(d)"
      ],
      "metadata": {
        "id": "c2iM3LL_Sgmt"
      },
      "execution_count": null,
      "outputs": []
    },
    {
      "cell_type": "code",
      "source": [
        "len(dur)"
      ],
      "metadata": {
        "colab": {
          "base_uri": "https://localhost:8080/"
        },
        "id": "emewCRcjd5Vb",
        "outputId": "31017ff8-1296-43e2-f766-e0e50a34493e"
      },
      "execution_count": null,
      "outputs": [
        {
          "output_type": "execute_result",
          "data": {
            "text/plain": [
              "158"
            ]
          },
          "metadata": {},
          "execution_count": 74
        }
      ]
    },
    {
      "cell_type": "code",
      "source": [
        "new_src = []\n",
        "new_dest = []\n",
        "new_stime = []\n",
        "new_dur = []\n",
        "new_wait = []\n",
        "new_sendpoint = []\n",
        "new_dendpoint = []\n",
        "\n",
        "flag = False\n",
        "for i in range(len(src)):\n",
        "  if flag:\n",
        "    flag = False\n",
        "    continue\n",
        "  new_src.append(src[i])\n",
        "  new_dest.append(dest[i])\n",
        "  new_dur.append(dur[i])\n",
        "  new_sendpoint.append(sendpoint[i])\n",
        "  new_dendpoint.append(dendpoint[i])\n",
        "  if mark[i] == 1:  \n",
        "    new_stime.append(stime[i + 1])\n",
        "    new_wait.append(wait[i + 1])\n",
        "    flag = True\n",
        "  else:\n",
        "    new_stime.append(stime[i])\n",
        "    new_wait.append(wait[i])"
      ],
      "metadata": {
        "id": "ABQKnU4OfqtV"
      },
      "execution_count": null,
      "outputs": []
    },
    {
      "cell_type": "code",
      "source": [
        "len(new_dur)"
      ],
      "metadata": {
        "colab": {
          "base_uri": "https://localhost:8080/"
        },
        "id": "O89v69q6g8OM",
        "outputId": "c5c4d070-a144-4016-cf56-21da8ba6ac7d"
      },
      "execution_count": null,
      "outputs": [
        {
          "output_type": "execute_result",
          "data": {
            "text/plain": [
              "123"
            ]
          },
          "metadata": {},
          "execution_count": 76
        }
      ]
    },
    {
      "cell_type": "code",
      "source": [
        "for i in range(len(new_dur)):\n",
        "  print(str(new_dur[i]-new_stime[i]-new_wait[i]) + \" \" + str(new_src[i]) + \" \" + str(new_dest[i]) + \" \" + str(new_dur[i]) + \" \" + str(new_stime[i]) + \" \" + str(new_sendpoint[i]) + \" \" + str(new_dendpoint[i]))"
      ],
      "metadata": {
        "colab": {
          "base_uri": "https://localhost:8080/"
        },
        "id": "iiZrhweBjg0g",
        "outputId": "bb86449a-daf8-433d-8208-459722a6b3ca"
      },
      "execution_count": null,
      "outputs": [
        {
          "output_type": "stream",
          "name": "stdout",
          "text": [
            "0  nginx-web 3542 3 UNDEFINED UNDEFINED\n",
            "0 nginx-web payment 3539 34 HTTP HTTP\n",
            "10 payment rs-user 16 4 HTTP HTTP\n",
            "0 rs-user rs-mongodb 2 2 HTTP HTTP\n",
            "0 payment paypal.com 2236 2236 HTTP HTTP\n",
            "0 payment www.paypal.com 85 85 HTTP HTTP\n",
            "0 payment www.paypal.com 1125 1125 HTTP HTTP\n",
            "0 payment rabbitmq 2 2 HTTP HTTP\n",
            "3 payment rs-user 34 8 HTTP HTTP\n",
            "0 rs-user rs-mongodb 2 2 HTTP HTTP\n",
            "0 rs-user rs-mongodb 1 1 HTTP HTTP\n",
            "0 rs-user rs-mongodb 20 20 HTTP HTTP\n",
            "4 payment rs-cart 7 2 HTTP HTTP\n",
            "0 rs-cart redis 1 1 HTTP HTTP\n",
            "0  nginx-web 0 0 UNDEFINED UNDEFINED\n",
            "0  nginx-web 546 2 UNDEFINED UNDEFINED\n",
            "0 nginx-web rs-shipping 544 449 HTTP HTTP\n",
            "78 rs-shipping rs-cart 95 16 HTTP HTTP\n",
            "0 rs-cart redis 1 1 HTTP HTTP\n",
            "0 rs-cart redis 0 0 HTTP HTTP\n",
            "2  nginx-web 34 31 UNDEFINED UNDEFINED\n",
            "0 rs-shipping rs-mysql-db 1 1 HTTP HTTP\n",
            "1  rs-ratings 5 4 UNDEFINED UNDEFINED\n",
            "0 rs-ratings rs-mysql-db 0 0 HTTP HTTP\n",
            "0 rs-ratings rs-mysql-db 0 0 HTTP HTTP\n",
            "2  nginx-web 64 8 UNDEFINED UNDEFINED\n",
            "0 rs-shipping rs-mysql-db 54 54 HTTP HTTP\n",
            "1  nginx-web 143 80 UNDEFINED UNDEFINED\n",
            "0 rs-shipping rs-mysql-db 62 62 HTTP HTTP\n",
            "1  rs-ratings 5 4 UNDEFINED UNDEFINED\n",
            "0 rs-ratings rs-mysql-db 0 0 HTTP HTTP\n",
            "0 rs-ratings rs-mysql-db 0 0 HTTP HTTP\n",
            "4  nginx-web 186 179 UNDEFINED UNDEFINED\n",
            "0 rs-shipping rs-mysql-db 3 3 HTTP HTTP\n",
            "0  nginx-web 0 0 UNDEFINED UNDEFINED\n",
            "1  nginx-web 3 2 UNDEFINED UNDEFINED\n",
            "0 rs-cart redis 0 0 HTTP HTTP\n",
            "0  nginx-web 0 0 UNDEFINED UNDEFINED\n",
            "0  nginx-web 18 2 UNDEFINED UNDEFINED\n",
            "0 nginx-web rs-cart 16 4 HTTP HTTP\n",
            "4 rs-cart rs-catalogue 11 5 HTTP HTTP\n",
            "0 rs-catalogue rs-mongodb 2 2 HTTP HTTP\n",
            "0 rs-cart redis 1 1 HTTP HTTP\n",
            "0 rs-cart redis 0 0 HTTP HTTP\n",
            "0  rs-ratings 4 4 UNDEFINED UNDEFINED\n",
            "0 rs-ratings rs-mysql-db 0 0 HTTP HTTP\n",
            "0 rs-ratings rs-mysql-db 0 0 HTTP HTTP\n",
            "0  nginx-web 1 1 UNDEFINED UNDEFINED\n",
            "0  nginx-web 11 2 UNDEFINED UNDEFINED\n",
            "1 nginx-web rs-ratings 9 7 HTTP HTTP\n",
            "0 rs-ratings rs-mysql-db 0 0 HTTP HTTP\n",
            "0 rs-ratings rs-ratings 1 1 INTERNAL INTERNAL\n",
            "0 rs-ratings rs-mysql-db 0 0 HTTP HTTP\n",
            "1  nginx-web 7 5 UNDEFINED UNDEFINED\n",
            "0 rs-catalogue rs-mongodb 1 1 HTTP HTTP\n",
            "0  nginx-web 0 0 UNDEFINED UNDEFINED\n",
            "0  nginx-web 1 1 UNDEFINED UNDEFINED\n",
            "0  nginx-web 25 2 UNDEFINED UNDEFINED\n",
            "0 nginx-web rs-cart 23 11 HTTP HTTP\n",
            "4 rs-cart rs-catalogue 10 4 HTTP HTTP\n",
            "0 rs-catalogue rs-mongodb 2 2 HTTP HTTP\n",
            "0 rs-cart redis 1 1 HTTP HTTP\n",
            "0 rs-cart redis 1 1 HTTP HTTP\n",
            "0  nginx-web 0 0 UNDEFINED UNDEFINED\n",
            "0  nginx-web 10 2 UNDEFINED UNDEFINED\n",
            "-2 nginx-web rs-ratings 8 7 HTTP HTTP\n",
            "0 rs-ratings rs-mysql-db 1 1 HTTP HTTP\n",
            "0 rs-ratings rs-ratings 2 1 INTERNAL INTERNAL\n",
            "0 rs-ratings rs-mysql-db 1 1 HTTP HTTP\n",
            "1  nginx-web 9 6 UNDEFINED UNDEFINED\n",
            "0 rs-catalogue rs-mongodb 2 2 HTTP HTTP\n",
            "0  nginx-web 0 0 UNDEFINED UNDEFINED\n",
            "0  nginx-web 0 0 UNDEFINED UNDEFINED\n",
            "0  nginx-web 16 2 UNDEFINED UNDEFINED\n",
            "-5 nginx-web rs-ratings 14 12 HTTP HTTP\n",
            "0 rs-ratings rs-mysql-db 1 1 HTTP HTTP\n",
            "0 rs-ratings rs-ratings 6 6 INTERNAL INTERNAL\n",
            "0 rs-ratings rs-mysql-db 0 0 HTTP HTTP\n",
            "1  nginx-web 11 6 UNDEFINED UNDEFINED\n",
            "0 rs-catalogue rs-mongodb 4 4 HTTP HTTP\n",
            "0  nginx-web 0 0 UNDEFINED UNDEFINED\n",
            "0  nginx-web 0 0 UNDEFINED UNDEFINED\n",
            "2  rs-ratings 8 6 UNDEFINED UNDEFINED\n",
            "0 rs-ratings rs-mysql-db 0 0 HTTP HTTP\n",
            "0 rs-ratings rs-mysql-db 0 0 HTTP HTTP\n",
            "1  nginx-web 14 9 UNDEFINED UNDEFINED\n",
            "0 rs-catalogue rs-mongodb 4 4 HTTP HTTP\n",
            "0  nginx-web 5 3 UNDEFINED UNDEFINED\n",
            "0 rs-user rs-mongodb 2 2 HTTP HTTP\n",
            "2  nginx-web 6 2 UNDEFINED UNDEFINED\n",
            "0 rs-cart redis 2 2 HTTP HTTP\n",
            "2  nginx-web 42 35 UNDEFINED UNDEFINED\n",
            "0 rs-user rs-mongodb 5 5 HTTP HTTP\n",
            "2  rs-ratings 7 5 UNDEFINED UNDEFINED\n",
            "0 rs-ratings rs-mysql-db 0 0 HTTP HTTP\n",
            "0 rs-ratings rs-mysql-db 0 0 HTTP HTTP\n",
            "0  nginx-web 1 1 UNDEFINED UNDEFINED\n",
            "1  rs-ratings 10 8 UNDEFINED UNDEFINED\n",
            "0 rs-ratings rs-mysql-db 1 1 HTTP HTTP\n",
            "0 rs-ratings rs-mysql-db 0 0 HTTP HTTP\n",
            "2  rs-ratings 11 8 UNDEFINED UNDEFINED\n",
            "0 rs-ratings ratings 1 1 HTTP HTTP\n",
            "0 rs-ratings ratings 0 0 HTTP HTTP\n",
            "1  rs-ratings 7 6 UNDEFINED UNDEFINED\n",
            "0 rs-ratings ratings 0 0 HTTP HTTP\n",
            "0 rs-ratings ratings 0 0 HTTP HTTP\n",
            "1  rs-ratings 7 6 UNDEFINED UNDEFINED\n",
            "0 rs-ratings ratings 0 0 HTTP HTTP\n",
            "0 rs-ratings ratings 0 0 HTTP HTTP\n",
            "0  nginx-web 3 2 UNDEFINED UNDEFINED\n",
            "0 catalogue rs-mongodb 1 1 HTTP HTTP\n",
            "3  nginx-web 7 2 UNDEFINED UNDEFINED\n",
            "0 user redis 2 2 HTTP HTTP\n",
            "0  nginx-web 0 0 UNDEFINED UNDEFINED\n",
            "2  nginx-web 6 2 UNDEFINED UNDEFINED\n",
            "0  rs-mongodb 2 2 HTTP HTTP\n",
            "0  nginx-web 1 1 UNDEFINED UNDEFINED\n",
            "2  rs-ratings 9 6 UNDEFINED UNDEFINED\n",
            "0 rs-ratings ratings 1 1 HTTP HTTP\n",
            "0 rs-ratings ratings 0 0 HTTP HTTP\n",
            "1  rs-ratings 5 4 UNDEFINED UNDEFINED\n",
            "0 rs-ratings ratings 0 0 HTTP HTTP\n",
            "0 rs-ratings ratings 0 0 HTTP HTTP\n"
          ]
        }
      ]
    },
    {
      "cell_type": "code",
      "source": [
        "topop = set()"
      ],
      "metadata": {
        "id": "H5ntdlXPm8fW"
      },
      "execution_count": null,
      "outputs": []
    },
    {
      "cell_type": "code",
      "source": [
        "for i in range(len(new_dur)):\n",
        "  if new_dur[i]-new_stime[i]-new_wait[i] < 0:\n",
        "    topop.add(i)"
      ],
      "metadata": {
        "id": "h5L6jL6kltum"
      },
      "execution_count": null,
      "outputs": []
    },
    {
      "cell_type": "code",
      "source": [
        "for i in range(len(new_dur)):\n",
        "  if not(new_sendpoint[i] == 'HTTP' and new_dendpoint[i] == 'HTTP'):\n",
        "    topop.add(i)\n",
        "  if not new_src[i] or not new_dest[i]:\n",
        "    topop.add(i)"
      ],
      "metadata": {
        "id": "dC-qro-fnI_S"
      },
      "execution_count": null,
      "outputs": []
    },
    {
      "cell_type": "code",
      "source": [
        "poplist = list(topop)\n",
        "poplist.sort(reverse = True)"
      ],
      "metadata": {
        "id": "ZnB4DZZWoQFP"
      },
      "execution_count": null,
      "outputs": []
    },
    {
      "cell_type": "code",
      "source": [
        "for i in poplist:\n",
        "  new_src.pop(i)\n",
        "  new_dest.pop(i)\n",
        "  new_stime.pop(i)\n",
        "  new_dur.pop(i)\n",
        "  new_wait.pop(i)\n",
        "  new_sendpoint.pop(i)\n",
        "  new_dendpoint.pop(i)"
      ],
      "metadata": {
        "id": "P4c1CoZyl7fo"
      },
      "execution_count": null,
      "outputs": []
    },
    {
      "cell_type": "code",
      "source": [
        "bigList = [[] for x in range(len(new_src))]"
      ],
      "metadata": {
        "id": "XoWCF-KGjmPv"
      },
      "execution_count": null,
      "outputs": []
    },
    {
      "cell_type": "code",
      "source": [
        "for i in range(len(new_src)):\n",
        "  bigList[i].append(new_src[i])\n",
        "  bigList[i].append(new_dest[i])\n",
        "  bigList[i].append(new_dur[i])\n",
        "  bigList[i].append(new_stime[i])\n",
        "  bigList[i].append(new_wait[i])\n",
        "  bigList[i].append(new_dur[i]-new_stime[i]-new_wait[i])"
      ],
      "metadata": {
        "id": "7jUxG2pRlm0u"
      },
      "execution_count": null,
      "outputs": []
    },
    {
      "cell_type": "code",
      "source": [
        "bigList"
      ],
      "metadata": {
        "colab": {
          "base_uri": "https://localhost:8080/"
        },
        "id": "5wUUo8f-jwJ4",
        "outputId": "49d6671e-fcda-4895-a1bf-8ff475cbace7"
      },
      "execution_count": null,
      "outputs": [
        {
          "output_type": "execute_result",
          "data": {
            "text/plain": [
              "[['nginx-web', 'payment', 3539, 34, 3505, 0],\n",
              " ['payment', 'rs-user', 16, 4, 2, 10],\n",
              " ['rs-user', 'rs-mongodb', 2, 2, 0, 0],\n",
              " ['payment', 'paypal.com', 2236, 2236, 0, 0],\n",
              " ['payment', 'www.paypal.com', 85, 85, 0, 0],\n",
              " ['payment', 'www.paypal.com', 1125, 1125, 0, 0],\n",
              " ['payment', 'rabbitmq', 2, 2, 0, 0],\n",
              " ['payment', 'rs-user', 34, 8, 23, 3],\n",
              " ['rs-user', 'rs-mongodb', 2, 2, 0, 0],\n",
              " ['rs-user', 'rs-mongodb', 1, 1, 0, 0],\n",
              " ['rs-user', 'rs-mongodb', 20, 20, 0, 0],\n",
              " ['payment', 'rs-cart', 7, 2, 1, 4],\n",
              " ['rs-cart', 'redis', 1, 1, 0, 0],\n",
              " ['nginx-web', 'rs-shipping', 544, 449, 95, 0],\n",
              " ['rs-shipping', 'rs-cart', 95, 16, 1, 78],\n",
              " ['rs-cart', 'redis', 1, 1, 0, 0],\n",
              " ['rs-cart', 'redis', 0, 0, 0, 0],\n",
              " ['rs-shipping', 'rs-mysql-db', 1, 1, 0, 0],\n",
              " ['rs-ratings', 'rs-mysql-db', 0, 0, 0, 0],\n",
              " ['rs-ratings', 'rs-mysql-db', 0, 0, 0, 0],\n",
              " ['rs-shipping', 'rs-mysql-db', 54, 54, 0, 0],\n",
              " ['rs-shipping', 'rs-mysql-db', 62, 62, 0, 0],\n",
              " ['rs-ratings', 'rs-mysql-db', 0, 0, 0, 0],\n",
              " ['rs-ratings', 'rs-mysql-db', 0, 0, 0, 0],\n",
              " ['rs-shipping', 'rs-mysql-db', 3, 3, 0, 0],\n",
              " ['rs-cart', 'redis', 0, 0, 0, 0],\n",
              " ['nginx-web', 'rs-cart', 16, 4, 12, 0],\n",
              " ['rs-cart', 'rs-catalogue', 11, 5, 2, 4],\n",
              " ['rs-catalogue', 'rs-mongodb', 2, 2, 0, 0],\n",
              " ['rs-cart', 'redis', 1, 1, 0, 0],\n",
              " ['rs-cart', 'redis', 0, 0, 0, 0],\n",
              " ['rs-ratings', 'rs-mysql-db', 0, 0, 0, 0],\n",
              " ['rs-ratings', 'rs-mysql-db', 0, 0, 0, 0],\n",
              " ['nginx-web', 'rs-ratings', 9, 7, 1, 1],\n",
              " ['rs-ratings', 'rs-mysql-db', 0, 0, 0, 0],\n",
              " ['rs-ratings', 'rs-mysql-db', 0, 0, 0, 0],\n",
              " ['rs-catalogue', 'rs-mongodb', 1, 1, 0, 0],\n",
              " ['nginx-web', 'rs-cart', 23, 11, 12, 0],\n",
              " ['rs-cart', 'rs-catalogue', 10, 4, 2, 4],\n",
              " ['rs-catalogue', 'rs-mongodb', 2, 2, 0, 0],\n",
              " ['rs-cart', 'redis', 1, 1, 0, 0],\n",
              " ['rs-cart', 'redis', 1, 1, 0, 0],\n",
              " ['rs-ratings', 'rs-mysql-db', 1, 1, 0, 0],\n",
              " ['rs-ratings', 'rs-mysql-db', 1, 1, 0, 0],\n",
              " ['rs-catalogue', 'rs-mongodb', 2, 2, 0, 0],\n",
              " ['rs-ratings', 'rs-mysql-db', 1, 1, 0, 0],\n",
              " ['rs-ratings', 'rs-mysql-db', 0, 0, 0, 0],\n",
              " ['rs-catalogue', 'rs-mongodb', 4, 4, 0, 0],\n",
              " ['rs-ratings', 'rs-mysql-db', 0, 0, 0, 0],\n",
              " ['rs-ratings', 'rs-mysql-db', 0, 0, 0, 0],\n",
              " ['rs-catalogue', 'rs-mongodb', 4, 4, 0, 0],\n",
              " ['rs-user', 'rs-mongodb', 2, 2, 0, 0],\n",
              " ['rs-cart', 'redis', 2, 2, 0, 0],\n",
              " ['rs-user', 'rs-mongodb', 5, 5, 0, 0],\n",
              " ['rs-ratings', 'rs-mysql-db', 0, 0, 0, 0],\n",
              " ['rs-ratings', 'rs-mysql-db', 0, 0, 0, 0],\n",
              " ['rs-ratings', 'rs-mysql-db', 1, 1, 0, 0],\n",
              " ['rs-ratings', 'rs-mysql-db', 0, 0, 0, 0],\n",
              " ['rs-ratings', 'ratings', 1, 1, 0, 0],\n",
              " ['rs-ratings', 'ratings', 0, 0, 0, 0],\n",
              " ['rs-ratings', 'ratings', 0, 0, 0, 0],\n",
              " ['rs-ratings', 'ratings', 0, 0, 0, 0],\n",
              " ['rs-ratings', 'ratings', 0, 0, 0, 0],\n",
              " ['rs-ratings', 'ratings', 0, 0, 0, 0],\n",
              " ['catalogue', 'rs-mongodb', 1, 1, 0, 0],\n",
              " ['user', 'redis', 2, 2, 0, 0],\n",
              " ['rs-ratings', 'ratings', 1, 1, 0, 0],\n",
              " ['rs-ratings', 'ratings', 0, 0, 0, 0],\n",
              " ['rs-ratings', 'ratings', 0, 0, 0, 0],\n",
              " ['rs-ratings', 'ratings', 0, 0, 0, 0]]"
            ]
          },
          "metadata": {},
          "execution_count": 85
        }
      ]
    },
    {
      "cell_type": "code",
      "source": [
        "info = dict()\n",
        "for i in bigList:\n",
        "  temp = (i[0], i[1])\n",
        "  if temp in info:\n",
        "    info[temp]['stime'] += i[3]\n",
        "    info[temp]['network'] += i[5]\n",
        "    info[temp]['calls'] += 1\n",
        "  else:\n",
        "    info[temp] = dict()\n",
        "    info[temp]['stime'] = i[3]\n",
        "    info[temp]['network'] = i[5]\n",
        "    info[temp]['calls'] = 1\n",
        "\n",
        "for edge in info:\n",
        "  info[edge]['stime'] /= info[edge]['calls']\n",
        "  info[edge]['network'] /= info[edge]['calls']\n",
        "\n",
        "info"
      ],
      "metadata": {
        "colab": {
          "base_uri": "https://localhost:8080/"
        },
        "id": "No77HSXn7ltK",
        "outputId": "9f605916-ae1f-414b-f4aa-5a922fa3885f"
      },
      "execution_count": null,
      "outputs": [
        {
          "output_type": "execute_result",
          "data": {
            "text/plain": [
              "{('nginx-web', 'payment'): {'stime': 34.0, 'network': 0.0, 'calls': 1},\n",
              " ('payment', 'rs-user'): {'stime': 6.0, 'network': 6.5, 'calls': 2},\n",
              " ('rs-user', 'rs-mongodb'): {'stime': 5.333333333333333,\n",
              "  'network': 0.0,\n",
              "  'calls': 6},\n",
              " ('payment', 'paypal.com'): {'stime': 2236.0, 'network': 0.0, 'calls': 1},\n",
              " ('payment', 'www.paypal.com'): {'stime': 605.0, 'network': 0.0, 'calls': 2},\n",
              " ('payment', 'rabbitmq'): {'stime': 2.0, 'network': 0.0, 'calls': 1},\n",
              " ('payment', 'rs-cart'): {'stime': 2.0, 'network': 4.0, 'calls': 1},\n",
              " ('rs-cart', 'redis'): {'stime': 0.7777777777777778,\n",
              "  'network': 0.0,\n",
              "  'calls': 9},\n",
              " ('nginx-web', 'rs-shipping'): {'stime': 449.0, 'network': 0.0, 'calls': 1},\n",
              " ('rs-shipping', 'rs-cart'): {'stime': 16.0, 'network': 78.0, 'calls': 1},\n",
              " ('rs-shipping', 'rs-mysql-db'): {'stime': 30.0, 'network': 0.0, 'calls': 4},\n",
              " ('rs-ratings', 'rs-mysql-db'): {'stime': 0.2222222222222222,\n",
              "  'network': 0.0,\n",
              "  'calls': 18},\n",
              " ('nginx-web', 'rs-cart'): {'stime': 7.5, 'network': 0.0, 'calls': 2},\n",
              " ('rs-cart', 'rs-catalogue'): {'stime': 4.5, 'network': 4.0, 'calls': 2},\n",
              " ('rs-catalogue', 'rs-mongodb'): {'stime': 2.5, 'network': 0.0, 'calls': 6},\n",
              " ('nginx-web', 'rs-ratings'): {'stime': 7.0, 'network': 1.0, 'calls': 1},\n",
              " ('rs-ratings', 'ratings'): {'stime': 0.2, 'network': 0.0, 'calls': 10},\n",
              " ('catalogue', 'rs-mongodb'): {'stime': 1.0, 'network': 0.0, 'calls': 1},\n",
              " ('user', 'redis'): {'stime': 2.0, 'network': 0.0, 'calls': 1}}"
            ]
          },
          "metadata": {},
          "execution_count": 86
        }
      ]
    },
    {
      "cell_type": "code",
      "source": [
        "finalList = [[] for i in range(len(info))]\n",
        "i = 0\n",
        "for edge in info:\n",
        "  finalList[i].append(edge[0])\n",
        "  finalList[i].append(edge[1])\n",
        "  finalList[i].append(info[edge]['stime'])\n",
        "  finalList[i].append(info[edge]['network'])\n",
        "  finalList[i].append(info[edge]['calls'])\n",
        "  i += 1\n",
        "finalList"
      ],
      "metadata": {
        "colab": {
          "base_uri": "https://localhost:8080/"
        },
        "id": "mntUfpMo-LEk",
        "outputId": "bf1f3e9d-5158-4822-c12f-90639afade78"
      },
      "execution_count": null,
      "outputs": [
        {
          "output_type": "execute_result",
          "data": {
            "text/plain": [
              "[['nginx-web', 'payment', 34.0, 0.0, 1],\n",
              " ['payment', 'rs-user', 6.0, 6.5, 2],\n",
              " ['rs-user', 'rs-mongodb', 5.333333333333333, 0.0, 6],\n",
              " ['payment', 'paypal.com', 2236.0, 0.0, 1],\n",
              " ['payment', 'www.paypal.com', 605.0, 0.0, 2],\n",
              " ['payment', 'rabbitmq', 2.0, 0.0, 1],\n",
              " ['payment', 'rs-cart', 2.0, 4.0, 1],\n",
              " ['rs-cart', 'redis', 0.7777777777777778, 0.0, 9],\n",
              " ['nginx-web', 'rs-shipping', 449.0, 0.0, 1],\n",
              " ['rs-shipping', 'rs-cart', 16.0, 78.0, 1],\n",
              " ['rs-shipping', 'rs-mysql-db', 30.0, 0.0, 4],\n",
              " ['rs-ratings', 'rs-mysql-db', 0.2222222222222222, 0.0, 18],\n",
              " ['nginx-web', 'rs-cart', 7.5, 0.0, 2],\n",
              " ['rs-cart', 'rs-catalogue', 4.5, 4.0, 2],\n",
              " ['rs-catalogue', 'rs-mongodb', 2.5, 0.0, 6],\n",
              " ['nginx-web', 'rs-ratings', 7.0, 1.0, 1],\n",
              " ['rs-ratings', 'ratings', 0.2, 0.0, 10],\n",
              " ['catalogue', 'rs-mongodb', 1.0, 0.0, 1],\n",
              " ['user', 'redis', 2.0, 0.0, 1]]"
            ]
          },
          "metadata": {},
          "execution_count": 87
        }
      ]
    },
    {
      "cell_type": "code",
      "source": [
        "columns = ['source', 'destination', 'self', 'network', 'calls']"
      ],
      "metadata": {
        "id": "xkKtqpddAM_Q"
      },
      "execution_count": null,
      "outputs": []
    },
    {
      "cell_type": "code",
      "source": [
        "with open('Edge.csv', 'w') as f:\n",
        "    write = csv.writer(f)\n",
        "    write.writerow(columns)\n",
        "    write.writerows(finalList)"
      ],
      "metadata": {
        "id": "3L48actcA0cz"
      },
      "execution_count": null,
      "outputs": []
    }
  ]
}